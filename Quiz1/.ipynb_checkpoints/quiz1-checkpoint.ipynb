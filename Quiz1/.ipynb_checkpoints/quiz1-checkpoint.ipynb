{
 "cells": [
  {
   "cell_type": "code",
   "execution_count": 42,
   "id": "b5010007",
   "metadata": {},
   "outputs": [
    {
     "name": "stdout",
     "output_type": "stream",
     "text": [
      "Enter an integer at least equal to 3: 3\n",
      "Input the name of a file in the working directory: sample_test_file_1.txt\n",
      "Here is your coffee table of size 3:\n",
      "     ---\n",
      "    /| /|\n",
      "    ---\n",
      "    | |\n",
      "\n",
      "Here are your two dashes\n",
      "    - -\n",
      "Here are your five stars\n",
      "    * * * * *\n",
      "Here are your four dashes\n",
      "    - - - -\n"
     ]
    }
   ],
   "source": [
    "### Written by *** for COMP9021\n",
    "#\n",
    "# Prompts the user for an integer at least equal to 3 and for the\n",
    "# name of a file, assumed to be stored in the working directory.\n",
    "#\n",
    "# The file can contain anywhere any number of blank lines\n",
    "# (that is, lines containing an arbitrary number of spaces\n",
    "# and tabs--an empty line being the limiting case).\n",
    "#\n",
    "# Nonblank lines are always of the form:\n",
    "#                Give me that_many characters\n",
    "# with any number of spaces at the beginning and at the end of the line\n",
    "# (possibly none) and with at least one space between successive words,\n",
    "# where that_many is one of 2, 3, 4, 5, 6, 7, 8 or 9\n",
    "# and where characters is one of dashes, stars, carets or dollars.\n",
    "#\n",
    "# Outputs text and \"pictures\" based on the provided input.\n",
    "#\n",
    "# Tip: Use a dictionary that maps 2 to the word two, 3 to the word three...\n",
    "#      Use another dictionary that maps the word dashes to the character -,\n",
    "#      the word stars to the character *...\n",
    "\n",
    "\n",
    "import sys\n",
    "import re\n",
    "from os.path import exists\n",
    "\n",
    "try:\n",
    "    size = int(input('Enter an integer at least equal to 3: '))\n",
    "    if size < 3:\n",
    "        raise ValueError\n",
    "except ValueError:\n",
    "    print('Incorrect input, giving up.')\n",
    "    sys.exit()\n",
    "file_name = input('Input the name of a file '\n",
    "                  'in the working directory: '\n",
    "                 ).removesuffix('\\n')\n",
    "if not exists(file_name):\n",
    "    print('Incorrect input, giving up.')\n",
    "    sys.exit()\n",
    "\n",
    "# INSERT YOUR CODE HERE\n",
    "dict1 = {'2' : 'two', '3' : 'three', '4' : 'four', '5' : 'five', '6' : 'six', '7' : 'seven', '8' : 'eight', '9' : 'nine'}\n",
    "dict2 = {'carets' : '^', 'stars' : '*', 'dollars' : '$', 'dashes' : '-'}\n",
    "\n",
    "file = open(file_name)\n",
    "fileLine = []\n",
    "\n",
    "lines = file.readlines()\n",
    "for line in lines:\n",
    "    if line.split():\n",
    "        line = ' '.join(line.split())\n",
    "        number = re.findall(r'\\d',line)#number is like 2,3,4,5... list[0]\n",
    "        line = re.sub(r'\\d',dict1[number[0]],line)\n",
    "        line = re.sub(r'Give me','Here are your',line)\n",
    "        for key in dict2:\n",
    "            if re.search(key,line) != None:\n",
    "                line = line + ':' + '\\n' + ' '*4 + (dict2[key] + ' ')*(int(number[0])-1) + dict2[key]\n",
    "            else:\n",
    "                continue\n",
    "        fileLine.append(line)\n",
    "    else:\n",
    "        continue\n",
    "print('Here is your coffee table of size ' + str(size) + ':')\n",
    "print(' '*5 + '-'*size)\n",
    "print(' '*4 + '/|' + ' '*(size-2) + '/|')\n",
    "print(' '*4 + '-'*size)\n",
    "print(' '*4 + '|' + ' '*(size-2) + '|' + '\\n')\n",
    "for line in fileLine:\n",
    "    print(line)"
   ]
  },
  {
   "cell_type": "code",
   "execution_count": 23,
   "id": "41f1b112",
   "metadata": {},
   "outputs": [
    {
     "name": "stdout",
     "output_type": "stream",
     "text": [
      "2\n",
      "3\n",
      "4\n",
      "5\n",
      "6\n",
      "7\n",
      "8\n",
      "9\n"
     ]
    }
   ],
   "source": [
    "dict1 = {'2' : 'two', '3' : 'three', '4' : 'four', '5' : 'five', '6' : 'six', '7' : 'seven', '8' : 'eight', '9' : 'nine'}\n",
    "dict2 = {'carets' : '^', 'stars' : '*', 'dollars' : '$'}\n",
    "for key in dict1:\n",
    "    print(key)"
   ]
  }
 ],
 "metadata": {
  "kernelspec": {
   "display_name": "Python 3 (ipykernel)",
   "language": "python",
   "name": "python3"
  },
  "language_info": {
   "codemirror_mode": {
    "name": "ipython",
    "version": 3
   },
   "file_extension": ".py",
   "mimetype": "text/x-python",
   "name": "python",
   "nbconvert_exporter": "python",
   "pygments_lexer": "ipython3",
   "version": "3.9.18"
  }
 },
 "nbformat": 4,
 "nbformat_minor": 5
}
