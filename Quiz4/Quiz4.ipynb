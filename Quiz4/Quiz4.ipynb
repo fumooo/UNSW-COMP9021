{
 "cells": [
  {
   "cell_type": "code",
   "execution_count": null,
   "id": "90797511",
   "metadata": {},
   "outputs": [
    {
     "name": "stderr",
     "output_type": "stream",
     "text": [
      "IOPub data rate exceeded.\n",
      "The notebook server will temporarily stop sending output\n",
      "to the client in order to avoid crashing it.\n",
      "To change this limit, set the config variable\n",
      "`--NotebookApp.iopub_data_rate_limit`.\n",
      "\n",
      "Current values:\n",
      "NotebookApp.iopub_data_rate_limit=1000000.0 (bytes/sec)\n",
      "NotebookApp.rate_limit_window=3.0 (secs)\n",
      "\n"
     ]
    }
   ],
   "source": [
    "## Written by *** for COMP9021\n",
    "\n",
    "# Implements a function that computes the maximum\n",
    "# number of primes within a window of a given size,\n",
    "# the first of which starts from a given lower bound\n",
    "# and the last of which ends at a given upper bound.\n",
    "# For all windows that achieve that maximum number\n",
    "# within the window; outputs those two primes\n",
    "# from smallest to largest first primes.\n",
    "\n",
    "from math import sqrt\n",
    "\n",
    "def sieve_of_primes_up_to(n): #IS primes\n",
    "    sieve = [True] * (n + 1)\n",
    "    for p in range(2, round(sqrt(n)) + 1):\n",
    "        if sieve[p]:\n",
    "            for i in range(p * p, n + 1, p):\n",
    "                sieve[i] = False\n",
    "    return sieve\n",
    "\n",
    "# You can assume that the function will be called with\n",
    "# size a strictly positive integer,\n",
    "# lower_bound an integer at least equal to 2, and\n",
    "# upper_bound an integer at least equal to lower_bound.\n",
    "# The function won't be tested for values of upper_bound\n",
    "# greater than 10,000,000.\n",
    "def primes_in_window(size, lower_bound, upper_bound):\n",
    "    if size > upper_bound - lower_bound + 1:\n",
    "        print('Window size is too large for these bounds,',\n",
    "              'leaving it there.'\n",
    "             )\n",
    "        return\n",
    "    # INSERT YOUR CODE HERE\n",
    "    \n",
    "    if size <= 0:\n",
    "        print(\"size is a strictly positive integer\")\n",
    "        return\n",
    "    sieve = sieve_of_primes_up_to(upper_bound)\n",
    "#     print(sieve)\n",
    "\n",
    "#     print(\"There are at most 3 primes in a window of size \" + str(size) + '.')\n",
    "    MesDic = {\"start_P\": 0 , \"end_P\" : 0, \"largest_P\" : 0, \"Number\" : 0}\n",
    "    \n",
    "    for i in range(lower_bound, upper_bound + 1):\n",
    "        start_P = i\n",
    "        end_P = i + size - 1\n",
    "        largest_P = 0\n",
    "        Number = 1\n",
    "        \n",
    "        if(end_P > upper_bound):\n",
    "            break\n",
    "        if(sieve[start_P] == True):\n",
    "            start_P = start_P + 1\n",
    "#             print(start_P,end_P)\n",
    "            while(True):\n",
    "                if(start_P == end_P + 1):\n",
    "                    \n",
    "                    break\n",
    "                elif(sieve[start_P] == True ):\n",
    "                    print(\"In some window, the smallest prime is \" + str(start_P) + \" and the largest one is \" + str(end_P) + \".\")\n",
    "                    largest_P = start_P\n",
    "                    Number = Number + 1\n",
    "                else:\n",
    "                    start_P = start_P + 1 \n",
    "        else:\n",
    "            continue\n",
    "   \n",
    "    \n",
    "primes_in_window(7, 10, 30)\n",
    "\n",
    "\n"
   ]
  },
  {
   "cell_type": "code",
   "execution_count": 18,
   "id": "361a4c6a",
   "metadata": {},
   "outputs": [
    {
     "name": "stdout",
     "output_type": "stream",
     "text": [
      "1\n"
     ]
    }
   ],
   "source": [
    "from math import sqrt\n",
    "\n",
    "print(round(sqrt(2)))\n",
    "# for p in range(2, round(sqrt(2)) + 1):"
   ]
  }
 ],
 "metadata": {
  "kernelspec": {
   "display_name": "Python 3 (ipykernel)",
   "language": "python",
   "name": "python3"
  },
  "language_info": {
   "codemirror_mode": {
    "name": "ipython",
    "version": 3
   },
   "file_extension": ".py",
   "mimetype": "text/x-python",
   "name": "python",
   "nbconvert_exporter": "python",
   "pygments_lexer": "ipython3",
   "version": "3.9.13"
  }
 },
 "nbformat": 4,
 "nbformat_minor": 5
}
