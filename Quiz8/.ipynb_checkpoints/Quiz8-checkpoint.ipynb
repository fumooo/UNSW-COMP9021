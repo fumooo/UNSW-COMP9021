{
 "cells": [
  {
   "cell_type": "code",
   "execution_count": 1,
   "id": "04e3c37b",
   "metadata": {},
   "outputs": [
    {
     "name": "stdout",
     "output_type": "stream",
     "text": [
      "Point of x-coordinate 0 and y-coordinate 0\n"
     ]
    }
   ],
   "source": [
    "# Written by *** for COMP9021\n",
    "#\n",
    "# Defines two classes, Point and Triangle.\n",
    "#\n",
    "# An object of class Point is created by passing exactly\n",
    "# 2 integers as arguments to __init__().\n",
    "# You can assume that nothing but integers will indeed be\n",
    "# passed as arguments to __init__(), but not that exactly\n",
    "# 2 arguments will be provided; when that is not the case,\n",
    "# a PointError error is raised.\n",
    "# The point class implements the __str__() and __repr__()\n",
    "# special methods.\n",
    "#\n",
    "# An object of class Triangle is created by passing exactly\n",
    "# 3 points as keyword only arguments to __init__().\n",
    "# You can assume that exactly three points will indeed be\n",
    "# passed as arguments to __init__().\n",
    "# The three points should not be collinear for the triangle\n",
    "# to be created; otherwise a TriangleError error is raised.\n",
    "# A triangle object can be modified by changing one two or three\n",
    "# points thanks to the method change_point_or_points(),\n",
    "# all of whose arguments are keyword only.\n",
    "# At any stage, the object maintains correct values\n",
    "# for perimeter and area.\n",
    "\n",
    "\n",
    "from math import sqrt\n",
    "\n",
    "class PointError(Exception):\n",
    "    def __init__(self,error):\n",
    "        self.error = error\n",
    "\n",
    "# INSERT YOUR CODE HERE\n",
    "class Point():\n",
    "    def __init__(self, *args):\n",
    "        if(len(args) !=2 ):\n",
    "            raise PointError(\"Need two coordinates, point not created.\")\n",
    "        self.x = args[0]\n",
    "        self.y = args[1]\n",
    "        # print(f'Point({self.x},{self.y})')\n",
    "        # if (self.x == 0 and self.y == 0):\n",
    "        #     print(f'Point({self.x},{self.y})')\n",
    "    def __str__(self):\n",
    "        return f'Point of x-coordinate {self.x} and y-coordinate {self.y}'\n",
    "\n",
    "    def __repr__(self):\n",
    "        return f'Point({self.x},{self.y})'\n",
    "\n",
    "if __name__ == '__main__':\n",
    "    Point(0, 0)\n",
    "    print(Point(0, 0))\n",
    "    p1 = Point(1, 2)\n",
    "    p2 = Point(4, 8)\n",
    "    p3 = Point(2, 4)\n"
   ]
  },
  {
   "cell_type": "code",
   "execution_count": null,
   "id": "32774382",
   "metadata": {},
   "outputs": [],
   "source": []
  }
 ],
 "metadata": {
  "kernelspec": {
   "display_name": "Python 3 (ipykernel)",
   "language": "python",
   "name": "python3"
  },
  "language_info": {
   "codemirror_mode": {
    "name": "ipython",
    "version": 3
   },
   "file_extension": ".py",
   "mimetype": "text/x-python",
   "name": "python",
   "nbconvert_exporter": "python",
   "pygments_lexer": "ipython3",
   "version": "3.11.5"
  }
 },
 "nbformat": 4,
 "nbformat_minor": 5
}
